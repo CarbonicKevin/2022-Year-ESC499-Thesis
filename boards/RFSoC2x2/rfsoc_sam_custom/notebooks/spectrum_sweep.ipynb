{
 "cells": [
  {
   "cell_type": "code",
   "execution_count": null,
   "id": "7325587a-7a10-48b6-a689-0c24526e5485",
   "metadata": {},
   "outputs": [],
   "source": [
    "import csv\n",
    "from time import sleep\n",
    "from rfsoc_sam_custom.overlay import Overlay\n",
    "\n",
    "overlay = Overlay(init_rf_clks=True)"
   ]
  },
  {
   "cell_type": "code",
   "execution_count": null,
   "id": "fbe700e0-5773-4aec-89c4-509d543a0522",
   "metadata": {},
   "outputs": [],
   "source": [
    "overlay.spectrum_analyzer().children[1]"
   ]
  },
  {
   "cell_type": "code",
   "execution_count": null,
   "id": "7786188c-7213-45ce-9f36-6523e673a203",
   "metadata": {},
   "outputs": [],
   "source": [
    "# Define Transmission Parameters\n",
    "fc = int(500e6)  # 500 MHz Center Frequency\n",
    "bw = int(100e3)  # 100 kHz Sweep Bandwidth\n",
    "df = int(2.5e3)  # 2.5 kHz Sweep Granularity\n",
    "\n",
    "# channel used\n",
    "ACTIVE_CHANNEL = 0\n",
    "\n",
    "# Configure Spectrum Analyser\n",
    "overlay.radio.receiver.channels[ACTIVE_CHANNEL].frontend.config = {\n",
    "    'centre_frequency': fc/1e6,\n",
    "    'nyquist_stopband': 100,\n",
    "    'decimation_factor': 2048,\n",
    "    'fftsize': 65536,\n",
    "    'post_process': 'none',\n",
    "    'number_frames': 1,\n",
    "    'window': 'rectangular',\n",
    "    'spectrum_enable': True   \n",
    "}\n"
   ]
  },
  {
   "cell_type": "code",
   "execution_count": null,
   "id": "87027b09-d454-4f42-8fb7-213133cbfe2b",
   "metadata": {},
   "outputs": [],
   "source": [
    "CSV_FILE_NAME = 'analyser.csv'\n",
    "\n",
    "# Create CSV file and write meta data\n",
    "with open(CSV_FILE_NAME, 'w') as file:\n",
    "    writer = csv.DictWriter(file, fieldnames=overlay.radio.receiver.channels[ACTIVE_CHANNEL].frontend.config.keys())\n",
    "    \n",
    "    # record meta data\n",
    "    writer.writeheader()\n",
    "    writer.writerow(overlay.radio.receiver.channels[ACTIVE_CHANNEL].frontend.config)\n",
    "    \n",
    "# write header for body of data\n",
    "with open(CSV_FILE_NAME, 'a') as file:\n",
    "    writer = csv.writer(file)\n",
    "    \n",
    "    writer.writerow([])  # write empty row for formatting\n",
    "    # write x_data as well as a column header for target frequency\n",
    "    x_data = overlay.radio.receiver.channels[ACTIVE_CHANNEL].frontend.analyser._spectrum_analyser.plot._x_data\n",
    "    writer.writerow( [\"Target Frequency\"] + list(x_data) )\n",
    "\n",
    "    # Turn on Transmitter\n",
    "    overlay.radio.transmitter.channels[ACTIVE_CHANNEL].frontend.config = { 'centre_frequency': (fc-bw)/1e6, 'amplitude': 0.5, 'transmit_enable':True }\n",
    "    \n",
    "    # Start Sweep & Collect Data\n",
    "    for freq in [(fc+d)/1e6 for d in range(-bw, bw+df, df)]:\n",
    "        overlay.radio.transmitter.channels[ACTIVE_CHANNEL].frontend.config = { 'centre_frequency': freq, 'amplitude': 0.5 }\n",
    "        sleep(1)  # Give some time for transmitter to re-configure\n",
    "        \n",
    "        y_data = overlay.radio.receiver.channels[ACTIVE_CHANNEL].frontend.analyser._spectrum_analyser.plot._y_data\n",
    "        writer.writerow( [freq] + list(y_data) )\n",
    "        \n",
    "# Turn off transmission\n",
    "overlay.radio.transmitter.channels[ACTIVE_CHANNEL].frontend.config = { 'centre_frequency': (fc-bw)/1e6, 'amplitude': 0.5, 'transmit_enable':False }"
   ]
  }
 ],
 "metadata": {
  "kernelspec": {
   "display_name": "Python 3",
   "language": "python",
   "name": "python3"
  },
  "language_info": {
   "codemirror_mode": {
    "name": "ipython",
    "version": 3
   },
   "file_extension": ".py",
   "mimetype": "text/x-python",
   "name": "python",
   "nbconvert_exporter": "python",
   "pygments_lexer": "ipython3",
   "version": "3.8.2"
  }
 },
 "nbformat": 4,
 "nbformat_minor": 5
}
