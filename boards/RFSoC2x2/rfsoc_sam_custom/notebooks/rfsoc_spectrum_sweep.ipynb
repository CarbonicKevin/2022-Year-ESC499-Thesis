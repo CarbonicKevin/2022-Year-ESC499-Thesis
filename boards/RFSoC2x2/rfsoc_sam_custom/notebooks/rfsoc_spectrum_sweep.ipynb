{
 "cells": [
  {
   "cell_type": "code",
   "execution_count": null,
   "id": "7325587a-7a10-48b6-a689-0c24526e5485",
   "metadata": {},
   "outputs": [],
   "source": [
    "from time import sleep\n",
    "from rfsoc_sam_custom.overlay import Overlay\n",
    "\n",
    "overlay = Overlay(init_rf_clks=True)"
   ]
  },
  {
   "cell_type": "code",
   "execution_count": null,
   "id": "fbe700e0-5773-4aec-89c4-509d543a0522",
   "metadata": {},
   "outputs": [],
   "source": [
    "overlay.spectrum_analyzer().children[1]"
   ]
  },
  {
   "cell_type": "code",
   "execution_count": null,
   "id": "7786188c-7213-45ce-9f36-6523e673a203",
   "metadata": {},
   "outputs": [],
   "source": [
    "fc = int(500e6)\n",
    "bw = int(100e3)\n",
    "df = int(2.5e3)\n",
    "\n",
    "overlay.radio.transmitter.channels[1].frontend.config = { 'centre_frequency': 500, 'amplitude': 0.5, 'transmit_enable':True }\n",
    "\n",
    "for freq in [(fc+d)/1e6 for d in range(-bw, bw, df)]:\n",
    "    overlay.radio.transmitter.channels[0].frontend.config = { 'centre_frequency': freq, 'amplitude': 0.5 }\n",
    "    print(freq)\n",
    "    sleep(0.2)"
   ]
  }
 ],
 "metadata": {
  "kernelspec": {
   "display_name": "Python 3",
   "language": "python",
   "name": "python3"
  },
  "language_info": {
   "codemirror_mode": {
    "name": "ipython",
    "version": 3
   },
   "file_extension": ".py",
   "mimetype": "text/x-python",
   "name": "python",
   "nbconvert_exporter": "python",
   "pygments_lexer": "ipython3",
   "version": "3.8.2"
  }
 },
 "nbformat": 4,
 "nbformat_minor": 5
}
